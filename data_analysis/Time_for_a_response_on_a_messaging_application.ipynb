{
  "nbformat": 4,
  "nbformat_minor": 0,
  "metadata": {
    "colab": {
      "name": "Time for a response on a messaging application.ipynb",
      "provenance": []
    },
    "kernelspec": {
      "name": "python3",
      "display_name": "Python 3"
    }
  },
  "cells": [
    {
      "cell_type": "markdown",
      "metadata": {
        "id": "_eogqs4g9nmE"
      },
      "source": [
        "You are given a [dataset](https://raw.githubusercontent.com/erood/interviewqs.com_code_snippets/master/Datasets/sample_message_dataset.csv) with information around messages sent between users in a P2P messaging application. Below is the dataset's schema:"
      ]
    },
    {
      "cell_type": "code",
      "metadata": {
        "cellView": "form",
        "id": "el3F8guu-5NV"
      },
      "source": [
        "#@title\n",
        "import numpy as np\n",
        "import pandas as pd"
      ],
      "execution_count": 64,
      "outputs": []
    },
    {
      "cell_type": "code",
      "metadata": {
        "colab": {
          "base_uri": "https://localhost:8080/",
          "height": 175
        },
        "cellView": "form",
        "id": "LIvB8AR9_9Ea",
        "outputId": "8aa50561-abf0-4b1c-acc9-47bbd713a054"
      },
      "source": [
        "#@title\n",
        "pd.DataFrame(\n",
        "    data=[\n",
        "          [\"date\", \"string\", \"date of the message sent/received, format is 'YYYY-mm-dd'\"],\n",
        "          [\"timestamp\", \"integer\", \"timestamp of the message sent/received, epoch seconds\"],\n",
        "          [\"sender_id\", \"integer\", \"id of the message sender\"],\n",
        "          [\"receiver_id\", \"integer\", \"id of the message receiver\"]\n",
        "          ], \n",
        "    columns=[\"Column Name\", \"Data Type\", \"Description\"]\n",
        ")"
      ],
      "execution_count": 3,
      "outputs": [
        {
          "output_type": "execute_result",
          "data": {
            "text/html": [
              "<div>\n",
              "<style scoped>\n",
              "    .dataframe tbody tr th:only-of-type {\n",
              "        vertical-align: middle;\n",
              "    }\n",
              "\n",
              "    .dataframe tbody tr th {\n",
              "        vertical-align: top;\n",
              "    }\n",
              "\n",
              "    .dataframe thead th {\n",
              "        text-align: right;\n",
              "    }\n",
              "</style>\n",
              "<table border=\"1\" class=\"dataframe\">\n",
              "  <thead>\n",
              "    <tr style=\"text-align: right;\">\n",
              "      <th></th>\n",
              "      <th>Column Name</th>\n",
              "      <th>Data Type</th>\n",
              "      <th>Description</th>\n",
              "    </tr>\n",
              "  </thead>\n",
              "  <tbody>\n",
              "    <tr>\n",
              "      <th>0</th>\n",
              "      <td>date</td>\n",
              "      <td>string</td>\n",
              "      <td>date of the message sent/received, format is '...</td>\n",
              "    </tr>\n",
              "    <tr>\n",
              "      <th>1</th>\n",
              "      <td>timestamp</td>\n",
              "      <td>integer</td>\n",
              "      <td>timestamp of the message sent/received, epoch ...</td>\n",
              "    </tr>\n",
              "    <tr>\n",
              "      <th>2</th>\n",
              "      <td>sender_id</td>\n",
              "      <td>integer</td>\n",
              "      <td>id of the message sender</td>\n",
              "    </tr>\n",
              "    <tr>\n",
              "      <th>3</th>\n",
              "      <td>receiver_id</td>\n",
              "      <td>integer</td>\n",
              "      <td>id of the message receiver</td>\n",
              "    </tr>\n",
              "  </tbody>\n",
              "</table>\n",
              "</div>"
            ],
            "text/plain": [
              "   Column Name Data Type                                        Description\n",
              "0         date    string  date of the message sent/received, format is '...\n",
              "1    timestamp   integer  timestamp of the message sent/received, epoch ...\n",
              "2    sender_id   integer                           id of the message sender\n",
              "3  receiver_id   integer                         id of the message receiver"
            ]
          },
          "metadata": {},
          "execution_count": 3
        }
      ]
    },
    {
      "cell_type": "markdown",
      "metadata": {
        "id": "2CGKuBOXI9Rp"
      },
      "source": [
        "Given this, write code to find the fraction of messages that are sent between the same sender and receiver within five minutes (e.g. the fraction of messages that receive a response within 5 minutes). "
      ]
    },
    {
      "cell_type": "code",
      "metadata": {
        "colab": {
          "base_uri": "https://localhost:8080/",
          "height": 423
        },
        "id": "Pr0NC7isJkPb",
        "outputId": "14c459e9-f55b-442c-ee18-9cfd9e64596f"
      },
      "source": [
        "df = pd.read_csv(\"https://raw.githubusercontent.com/erood/interviewqs.com_code_snippets/master/Datasets/sample_message_dataset.csv\")\n",
        "df"
      ],
      "execution_count": 5,
      "outputs": [
        {
          "output_type": "execute_result",
          "data": {
            "text/html": [
              "<div>\n",
              "<style scoped>\n",
              "    .dataframe tbody tr th:only-of-type {\n",
              "        vertical-align: middle;\n",
              "    }\n",
              "\n",
              "    .dataframe tbody tr th {\n",
              "        vertical-align: top;\n",
              "    }\n",
              "\n",
              "    .dataframe thead th {\n",
              "        text-align: right;\n",
              "    }\n",
              "</style>\n",
              "<table border=\"1\" class=\"dataframe\">\n",
              "  <thead>\n",
              "    <tr style=\"text-align: right;\">\n",
              "      <th></th>\n",
              "      <th>date</th>\n",
              "      <th>timestamp</th>\n",
              "      <th>sender_id</th>\n",
              "      <th>receiver_id</th>\n",
              "    </tr>\n",
              "  </thead>\n",
              "  <tbody>\n",
              "    <tr>\n",
              "      <th>0</th>\n",
              "      <td>2018-03-01</td>\n",
              "      <td>1519923378</td>\n",
              "      <td>1</td>\n",
              "      <td>5</td>\n",
              "    </tr>\n",
              "    <tr>\n",
              "      <th>1</th>\n",
              "      <td>2018-03-01</td>\n",
              "      <td>1519942810</td>\n",
              "      <td>1</td>\n",
              "      <td>4</td>\n",
              "    </tr>\n",
              "    <tr>\n",
              "      <th>2</th>\n",
              "      <td>2018-03-01</td>\n",
              "      <td>1519918950</td>\n",
              "      <td>1</td>\n",
              "      <td>5</td>\n",
              "    </tr>\n",
              "    <tr>\n",
              "      <th>3</th>\n",
              "      <td>2018-03-01</td>\n",
              "      <td>1519930114</td>\n",
              "      <td>1</td>\n",
              "      <td>2</td>\n",
              "    </tr>\n",
              "    <tr>\n",
              "      <th>4</th>\n",
              "      <td>2018-03-01</td>\n",
              "      <td>1519920410</td>\n",
              "      <td>1</td>\n",
              "      <td>2</td>\n",
              "    </tr>\n",
              "    <tr>\n",
              "      <th>...</th>\n",
              "      <td>...</td>\n",
              "      <td>...</td>\n",
              "      <td>...</td>\n",
              "      <td>...</td>\n",
              "    </tr>\n",
              "    <tr>\n",
              "      <th>81</th>\n",
              "      <td>2018-03-01</td>\n",
              "      <td>1519866004</td>\n",
              "      <td>4</td>\n",
              "      <td>7</td>\n",
              "    </tr>\n",
              "    <tr>\n",
              "      <th>82</th>\n",
              "      <td>2018-03-01</td>\n",
              "      <td>1519912343</td>\n",
              "      <td>3</td>\n",
              "      <td>8</td>\n",
              "    </tr>\n",
              "    <tr>\n",
              "      <th>83</th>\n",
              "      <td>2018-03-01</td>\n",
              "      <td>1519896177</td>\n",
              "      <td>4</td>\n",
              "      <td>8</td>\n",
              "    </tr>\n",
              "    <tr>\n",
              "      <th>84</th>\n",
              "      <td>2018-03-01</td>\n",
              "      <td>1519878235</td>\n",
              "      <td>3</td>\n",
              "      <td>8</td>\n",
              "    </tr>\n",
              "    <tr>\n",
              "      <th>85</th>\n",
              "      <td>2018-03-01</td>\n",
              "      <td>1519946686</td>\n",
              "      <td>7</td>\n",
              "      <td>8</td>\n",
              "    </tr>\n",
              "  </tbody>\n",
              "</table>\n",
              "<p>86 rows × 4 columns</p>\n",
              "</div>"
            ],
            "text/plain": [
              "          date   timestamp  sender_id  receiver_id\n",
              "0   2018-03-01  1519923378          1            5\n",
              "1   2018-03-01  1519942810          1            4\n",
              "2   2018-03-01  1519918950          1            5\n",
              "3   2018-03-01  1519930114          1            2\n",
              "4   2018-03-01  1519920410          1            2\n",
              "..         ...         ...        ...          ...\n",
              "81  2018-03-01  1519866004          4            7\n",
              "82  2018-03-01  1519912343          3            8\n",
              "83  2018-03-01  1519896177          4            8\n",
              "84  2018-03-01  1519878235          3            8\n",
              "85  2018-03-01  1519946686          7            8\n",
              "\n",
              "[86 rows x 4 columns]"
            ]
          },
          "metadata": {},
          "execution_count": 5
        }
      ]
    },
    {
      "cell_type": "code",
      "metadata": {
        "id": "WN9Eez9CKIrF"
      },
      "source": [
        "# Create auxiliary column to identify messages between the same two people\n",
        "df[\"user_ids\"] = df.apply(\n",
        "    lambda x: \"\".join([str(c) for c in [x.sender_id, x.receiver_id]]),\n",
        "    axis=1\n",
        ")\n",
        "df[\"next_user_ids\"] = df.user_ids.shift(-1)"
      ],
      "execution_count": 63,
      "outputs": []
    },
    {
      "cell_type": "code",
      "metadata": {
        "id": "b1UiXXgWTf67"
      },
      "source": [
        "# Sort by people and ts\n",
        "df = df.sort_values([\"user_ids\", \"timestamp\"])"
      ],
      "execution_count": 53,
      "outputs": []
    },
    {
      "cell_type": "code",
      "metadata": {
        "id": "rNtFzmN2Wa2j"
      },
      "source": [
        "# Compute de difference between message ts\n",
        "df[\"ts_difference\"] = np.nan\n",
        "df.ts_difference.where(df.user_ids != df.next_user_ids, df.timestamp.shift(-1) - df.timestamp, inplace=True)"
      ],
      "execution_count": 82,
      "outputs": []
    },
    {
      "cell_type": "code",
      "metadata": {
        "id": "LxPsguInW-f9"
      },
      "source": [
        "# Flag messages that receive a response within 5 minutes\n",
        "df[\"next_message_within_5\"] = 1\n",
        "df.next_message_within_5 = df.next_message_within_5.where(df.ts_difference/60 < 5, 0)"
      ],
      "execution_count": 72,
      "outputs": []
    },
    {
      "cell_type": "code",
      "metadata": {
        "colab": {
          "base_uri": "https://localhost:8080/"
        },
        "id": "cU2G7i12j5Yp",
        "outputId": "c7a2c041-7fe0-487b-b20e-022c25acb89e"
      },
      "source": [
        "print(f\"The percentage of messages that receive a response within 5 minutes is {(df.next_message_within_5 == 1).sum() / df.next_message_within_5.count():.0%}\")"
      ],
      "execution_count": 81,
      "outputs": [
        {
          "output_type": "stream",
          "name": "stdout",
          "text": [
            "The percentage of messages that receive a response within 5 minutes is 3%\n"
          ]
        }
      ]
    }
  ]
}