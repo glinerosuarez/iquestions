{
  "nbformat": 4,
  "nbformat_minor": 0,
  "metadata": {
    "colab": {
      "name": "wine_quality.ipynb",
      "provenance": []
    },
    "kernelspec": {
      "name": "python3",
      "display_name": "Python 3"
    },
    "language_info": {
      "name": "python"
    }
  },
  "cells": [
    {
      "cell_type": "code",
      "source": [
        "!sudo pip install scikit-optimize"
      ],
      "metadata": {
        "colab": {
          "base_uri": "https://localhost:8080/"
        },
        "id": "ix5dwT40DqFB",
        "outputId": "11474743-df04-42c8-b823-4681420ff369"
      },
      "execution_count": 2,
      "outputs": [
        {
          "output_type": "stream",
          "name": "stdout",
          "text": [
            "Collecting scikit-optimize\n",
            "  Downloading scikit_optimize-0.9.0-py2.py3-none-any.whl (100 kB)\n",
            "\u001b[?25l\r\u001b[K     |███▎                            | 10 kB 24.8 MB/s eta 0:00:01\r\u001b[K     |██████▌                         | 20 kB 31.0 MB/s eta 0:00:01\r\u001b[K     |█████████▉                      | 30 kB 37.6 MB/s eta 0:00:01\r\u001b[K     |█████████████                   | 40 kB 38.7 MB/s eta 0:00:01\r\u001b[K     |████████████████▍               | 51 kB 28.4 MB/s eta 0:00:01\r\u001b[K     |███████████████████▋            | 61 kB 23.4 MB/s eta 0:00:01\r\u001b[K     |██████████████████████▉         | 71 kB 21.4 MB/s eta 0:00:01\r\u001b[K     |██████████████████████████▏     | 81 kB 23.3 MB/s eta 0:00:01\r\u001b[K     |█████████████████████████████▍  | 92 kB 25.2 MB/s eta 0:00:01\r\u001b[K     |████████████████████████████████| 100 kB 7.9 MB/s \n",
            "\u001b[?25hRequirement already satisfied: scikit-learn>=0.20.0 in /usr/local/lib/python3.7/dist-packages (from scikit-optimize) (1.0.2)\n",
            "Requirement already satisfied: joblib>=0.11 in /usr/local/lib/python3.7/dist-packages (from scikit-optimize) (1.1.0)\n",
            "Requirement already satisfied: scipy>=0.19.1 in /usr/local/lib/python3.7/dist-packages (from scikit-optimize) (1.4.1)\n",
            "Collecting pyaml>=16.9\n",
            "  Downloading pyaml-21.10.1-py2.py3-none-any.whl (24 kB)\n",
            "Requirement already satisfied: numpy>=1.13.3 in /usr/local/lib/python3.7/dist-packages (from scikit-optimize) (1.19.5)\n",
            "Requirement already satisfied: PyYAML in /usr/local/lib/python3.7/dist-packages (from pyaml>=16.9->scikit-optimize) (3.13)\n",
            "Requirement already satisfied: threadpoolctl>=2.0.0 in /usr/local/lib/python3.7/dist-packages (from scikit-learn>=0.20.0->scikit-optimize) (3.0.0)\n",
            "Installing collected packages: pyaml, scikit-optimize\n",
            "Successfully installed pyaml-21.10.1 scikit-optimize-0.9.0\n"
          ]
        }
      ]
    },
    {
      "cell_type": "code",
      "execution_count": 3,
      "metadata": {
        "id": "TfyYfJgWO_0u"
      },
      "outputs": [],
      "source": [
        "import functools\n",
        "import numpy as np\n",
        "import pandas as pd\n",
        "from datetime import timedelta\n",
        "import matplotlib.pyplot as plt\n",
        "from scipy.stats import uniform\n",
        "from timeit import default_timer as timer\n",
        "\n",
        "from sklearn.metrics import accuracy_score\n",
        "from sklearn.ensemble import RandomForestClassifier\n",
        "from sklearn.model_selection._search import BaseSearchCV\n",
        "from sklearn.experimental import enable_halving_search_cv\n",
        "from sklearn.model_selection import cross_val_score, train_test_split, GridSearchCV, RandomizedSearchCV, HalvingGridSearchCV\n",
        "\n",
        "from skopt import gp_minimize\n",
        "from skopt.utils import use_named_args\n",
        "from skopt.space import Integer, Categorical, Real"
      ]
    },
    {
      "cell_type": "code",
      "source": [
        "df = pd.read_csv(\n",
        "    \"https://raw.githubusercontent.com/erood/interviewqs.com_code_snippets/master/Datasets/winequality-red.csv\",\n",
        "    sep=\";\"\n",
        ")\n",
        "df"
      ],
      "metadata": {
        "colab": {
          "base_uri": "https://localhost:8080/",
          "height": 485
        },
        "id": "eZOitz4KPFfE",
        "outputId": "55b06eb6-717b-4a92-e2d2-e97d359106ad"
      },
      "execution_count": 4,
      "outputs": [
        {
          "output_type": "execute_result",
          "data": {
            "text/html": [
              "\n",
              "  <div id=\"df-7cbd110b-db06-4b92-80f7-c606730acb8f\">\n",
              "    <div class=\"colab-df-container\">\n",
              "      <div>\n",
              "<style scoped>\n",
              "    .dataframe tbody tr th:only-of-type {\n",
              "        vertical-align: middle;\n",
              "    }\n",
              "\n",
              "    .dataframe tbody tr th {\n",
              "        vertical-align: top;\n",
              "    }\n",
              "\n",
              "    .dataframe thead th {\n",
              "        text-align: right;\n",
              "    }\n",
              "</style>\n",
              "<table border=\"1\" class=\"dataframe\">\n",
              "  <thead>\n",
              "    <tr style=\"text-align: right;\">\n",
              "      <th></th>\n",
              "      <th>fixed acidity</th>\n",
              "      <th>volatile acidity</th>\n",
              "      <th>citric acid</th>\n",
              "      <th>residual sugar</th>\n",
              "      <th>chlorides</th>\n",
              "      <th>free sulfur dioxide</th>\n",
              "      <th>total sulfur dioxide</th>\n",
              "      <th>density</th>\n",
              "      <th>pH</th>\n",
              "      <th>sulphates</th>\n",
              "      <th>alcohol</th>\n",
              "      <th>quality</th>\n",
              "    </tr>\n",
              "  </thead>\n",
              "  <tbody>\n",
              "    <tr>\n",
              "      <th>0</th>\n",
              "      <td>7.4</td>\n",
              "      <td>0.700</td>\n",
              "      <td>0.00</td>\n",
              "      <td>1.9</td>\n",
              "      <td>0.076</td>\n",
              "      <td>11.0</td>\n",
              "      <td>34.0</td>\n",
              "      <td>0.99780</td>\n",
              "      <td>3.51</td>\n",
              "      <td>0.56</td>\n",
              "      <td>9.4</td>\n",
              "      <td>5</td>\n",
              "    </tr>\n",
              "    <tr>\n",
              "      <th>1</th>\n",
              "      <td>7.8</td>\n",
              "      <td>0.880</td>\n",
              "      <td>0.00</td>\n",
              "      <td>2.6</td>\n",
              "      <td>0.098</td>\n",
              "      <td>25.0</td>\n",
              "      <td>67.0</td>\n",
              "      <td>0.99680</td>\n",
              "      <td>3.20</td>\n",
              "      <td>0.68</td>\n",
              "      <td>9.8</td>\n",
              "      <td>5</td>\n",
              "    </tr>\n",
              "    <tr>\n",
              "      <th>2</th>\n",
              "      <td>7.8</td>\n",
              "      <td>0.760</td>\n",
              "      <td>0.04</td>\n",
              "      <td>2.3</td>\n",
              "      <td>0.092</td>\n",
              "      <td>15.0</td>\n",
              "      <td>54.0</td>\n",
              "      <td>0.99700</td>\n",
              "      <td>3.26</td>\n",
              "      <td>0.65</td>\n",
              "      <td>9.8</td>\n",
              "      <td>5</td>\n",
              "    </tr>\n",
              "    <tr>\n",
              "      <th>3</th>\n",
              "      <td>11.2</td>\n",
              "      <td>0.280</td>\n",
              "      <td>0.56</td>\n",
              "      <td>1.9</td>\n",
              "      <td>0.075</td>\n",
              "      <td>17.0</td>\n",
              "      <td>60.0</td>\n",
              "      <td>0.99800</td>\n",
              "      <td>3.16</td>\n",
              "      <td>0.58</td>\n",
              "      <td>9.8</td>\n",
              "      <td>6</td>\n",
              "    </tr>\n",
              "    <tr>\n",
              "      <th>4</th>\n",
              "      <td>7.4</td>\n",
              "      <td>0.700</td>\n",
              "      <td>0.00</td>\n",
              "      <td>1.9</td>\n",
              "      <td>0.076</td>\n",
              "      <td>11.0</td>\n",
              "      <td>34.0</td>\n",
              "      <td>0.99780</td>\n",
              "      <td>3.51</td>\n",
              "      <td>0.56</td>\n",
              "      <td>9.4</td>\n",
              "      <td>5</td>\n",
              "    </tr>\n",
              "    <tr>\n",
              "      <th>...</th>\n",
              "      <td>...</td>\n",
              "      <td>...</td>\n",
              "      <td>...</td>\n",
              "      <td>...</td>\n",
              "      <td>...</td>\n",
              "      <td>...</td>\n",
              "      <td>...</td>\n",
              "      <td>...</td>\n",
              "      <td>...</td>\n",
              "      <td>...</td>\n",
              "      <td>...</td>\n",
              "      <td>...</td>\n",
              "    </tr>\n",
              "    <tr>\n",
              "      <th>1594</th>\n",
              "      <td>6.2</td>\n",
              "      <td>0.600</td>\n",
              "      <td>0.08</td>\n",
              "      <td>2.0</td>\n",
              "      <td>0.090</td>\n",
              "      <td>32.0</td>\n",
              "      <td>44.0</td>\n",
              "      <td>0.99490</td>\n",
              "      <td>3.45</td>\n",
              "      <td>0.58</td>\n",
              "      <td>10.5</td>\n",
              "      <td>5</td>\n",
              "    </tr>\n",
              "    <tr>\n",
              "      <th>1595</th>\n",
              "      <td>5.9</td>\n",
              "      <td>0.550</td>\n",
              "      <td>0.10</td>\n",
              "      <td>2.2</td>\n",
              "      <td>0.062</td>\n",
              "      <td>39.0</td>\n",
              "      <td>51.0</td>\n",
              "      <td>0.99512</td>\n",
              "      <td>3.52</td>\n",
              "      <td>0.76</td>\n",
              "      <td>11.2</td>\n",
              "      <td>6</td>\n",
              "    </tr>\n",
              "    <tr>\n",
              "      <th>1596</th>\n",
              "      <td>6.3</td>\n",
              "      <td>0.510</td>\n",
              "      <td>0.13</td>\n",
              "      <td>2.3</td>\n",
              "      <td>0.076</td>\n",
              "      <td>29.0</td>\n",
              "      <td>40.0</td>\n",
              "      <td>0.99574</td>\n",
              "      <td>3.42</td>\n",
              "      <td>0.75</td>\n",
              "      <td>11.0</td>\n",
              "      <td>6</td>\n",
              "    </tr>\n",
              "    <tr>\n",
              "      <th>1597</th>\n",
              "      <td>5.9</td>\n",
              "      <td>0.645</td>\n",
              "      <td>0.12</td>\n",
              "      <td>2.0</td>\n",
              "      <td>0.075</td>\n",
              "      <td>32.0</td>\n",
              "      <td>44.0</td>\n",
              "      <td>0.99547</td>\n",
              "      <td>3.57</td>\n",
              "      <td>0.71</td>\n",
              "      <td>10.2</td>\n",
              "      <td>5</td>\n",
              "    </tr>\n",
              "    <tr>\n",
              "      <th>1598</th>\n",
              "      <td>6.0</td>\n",
              "      <td>0.310</td>\n",
              "      <td>0.47</td>\n",
              "      <td>3.6</td>\n",
              "      <td>0.067</td>\n",
              "      <td>18.0</td>\n",
              "      <td>42.0</td>\n",
              "      <td>0.99549</td>\n",
              "      <td>3.39</td>\n",
              "      <td>0.66</td>\n",
              "      <td>11.0</td>\n",
              "      <td>6</td>\n",
              "    </tr>\n",
              "  </tbody>\n",
              "</table>\n",
              "<p>1599 rows × 12 columns</p>\n",
              "</div>\n",
              "      <button class=\"colab-df-convert\" onclick=\"convertToInteractive('df-7cbd110b-db06-4b92-80f7-c606730acb8f')\"\n",
              "              title=\"Convert this dataframe to an interactive table.\"\n",
              "              style=\"display:none;\">\n",
              "        \n",
              "  <svg xmlns=\"http://www.w3.org/2000/svg\" height=\"24px\"viewBox=\"0 0 24 24\"\n",
              "       width=\"24px\">\n",
              "    <path d=\"M0 0h24v24H0V0z\" fill=\"none\"/>\n",
              "    <path d=\"M18.56 5.44l.94 2.06.94-2.06 2.06-.94-2.06-.94-.94-2.06-.94 2.06-2.06.94zm-11 1L8.5 8.5l.94-2.06 2.06-.94-2.06-.94L8.5 2.5l-.94 2.06-2.06.94zm10 10l.94 2.06.94-2.06 2.06-.94-2.06-.94-.94-2.06-.94 2.06-2.06.94z\"/><path d=\"M17.41 7.96l-1.37-1.37c-.4-.4-.92-.59-1.43-.59-.52 0-1.04.2-1.43.59L10.3 9.45l-7.72 7.72c-.78.78-.78 2.05 0 2.83L4 21.41c.39.39.9.59 1.41.59.51 0 1.02-.2 1.41-.59l7.78-7.78 2.81-2.81c.8-.78.8-2.07 0-2.86zM5.41 20L4 18.59l7.72-7.72 1.47 1.35L5.41 20z\"/>\n",
              "  </svg>\n",
              "      </button>\n",
              "      \n",
              "  <style>\n",
              "    .colab-df-container {\n",
              "      display:flex;\n",
              "      flex-wrap:wrap;\n",
              "      gap: 12px;\n",
              "    }\n",
              "\n",
              "    .colab-df-convert {\n",
              "      background-color: #E8F0FE;\n",
              "      border: none;\n",
              "      border-radius: 50%;\n",
              "      cursor: pointer;\n",
              "      display: none;\n",
              "      fill: #1967D2;\n",
              "      height: 32px;\n",
              "      padding: 0 0 0 0;\n",
              "      width: 32px;\n",
              "    }\n",
              "\n",
              "    .colab-df-convert:hover {\n",
              "      background-color: #E2EBFA;\n",
              "      box-shadow: 0px 1px 2px rgba(60, 64, 67, 0.3), 0px 1px 3px 1px rgba(60, 64, 67, 0.15);\n",
              "      fill: #174EA6;\n",
              "    }\n",
              "\n",
              "    [theme=dark] .colab-df-convert {\n",
              "      background-color: #3B4455;\n",
              "      fill: #D2E3FC;\n",
              "    }\n",
              "\n",
              "    [theme=dark] .colab-df-convert:hover {\n",
              "      background-color: #434B5C;\n",
              "      box-shadow: 0px 1px 3px 1px rgba(0, 0, 0, 0.15);\n",
              "      filter: drop-shadow(0px 1px 2px rgba(0, 0, 0, 0.3));\n",
              "      fill: #FFFFFF;\n",
              "    }\n",
              "  </style>\n",
              "\n",
              "      <script>\n",
              "        const buttonEl =\n",
              "          document.querySelector('#df-7cbd110b-db06-4b92-80f7-c606730acb8f button.colab-df-convert');\n",
              "        buttonEl.style.display =\n",
              "          google.colab.kernel.accessAllowed ? 'block' : 'none';\n",
              "\n",
              "        async function convertToInteractive(key) {\n",
              "          const element = document.querySelector('#df-7cbd110b-db06-4b92-80f7-c606730acb8f');\n",
              "          const dataTable =\n",
              "            await google.colab.kernel.invokeFunction('convertToInteractive',\n",
              "                                                     [key], {});\n",
              "          if (!dataTable) return;\n",
              "\n",
              "          const docLinkHtml = 'Like what you see? Visit the ' +\n",
              "            '<a target=\"_blank\" href=https://colab.research.google.com/notebooks/data_table.ipynb>data table notebook</a>'\n",
              "            + ' to learn more about interactive tables.';\n",
              "          element.innerHTML = '';\n",
              "          dataTable['output_type'] = 'display_data';\n",
              "          await google.colab.output.renderOutput(dataTable, element);\n",
              "          const docLink = document.createElement('div');\n",
              "          docLink.innerHTML = docLinkHtml;\n",
              "          element.appendChild(docLink);\n",
              "        }\n",
              "      </script>\n",
              "    </div>\n",
              "  </div>\n",
              "  "
            ],
            "text/plain": [
              "      fixed acidity  volatile acidity  citric acid  ...  sulphates  alcohol  quality\n",
              "0               7.4             0.700         0.00  ...       0.56      9.4        5\n",
              "1               7.8             0.880         0.00  ...       0.68      9.8        5\n",
              "2               7.8             0.760         0.04  ...       0.65      9.8        5\n",
              "3              11.2             0.280         0.56  ...       0.58      9.8        6\n",
              "4               7.4             0.700         0.00  ...       0.56      9.4        5\n",
              "...             ...               ...          ...  ...        ...      ...      ...\n",
              "1594            6.2             0.600         0.08  ...       0.58     10.5        5\n",
              "1595            5.9             0.550         0.10  ...       0.76     11.2        6\n",
              "1596            6.3             0.510         0.13  ...       0.75     11.0        6\n",
              "1597            5.9             0.645         0.12  ...       0.71     10.2        5\n",
              "1598            6.0             0.310         0.47  ...       0.66     11.0        6\n",
              "\n",
              "[1599 rows x 12 columns]"
            ]
          },
          "metadata": {},
          "execution_count": 4
        }
      ]
    },
    {
      "cell_type": "code",
      "source": [
        "df[\"quality\"] = df.quality.where(df.quality >= 7, 0)\n",
        "df[\"quality\"] = df.quality.mask(df.quality >= 7, 1)\n",
        "df.quality.value_counts()"
      ],
      "metadata": {
        "id": "VUzujfilU1Nc",
        "colab": {
          "base_uri": "https://localhost:8080/"
        },
        "outputId": "549d72d3-128f-4b93-c3ee-9aa4ca21489c"
      },
      "execution_count": 5,
      "outputs": [
        {
          "output_type": "execute_result",
          "data": {
            "text/plain": [
              "0    1382\n",
              "1     217\n",
              "Name: quality, dtype: int64"
            ]
          },
          "metadata": {},
          "execution_count": 5
        }
      ]
    },
    {
      "cell_type": "code",
      "source": [
        "X_train, X_test, y_train, y_test = train_test_split(df[df.columns[:-1]], df.quality, test_size=0.2)"
      ],
      "metadata": {
        "id": "ASv4JnZCh0tF"
      },
      "execution_count": 6,
      "outputs": []
    },
    {
      "cell_type": "code",
      "source": [
        "def time_it(func):\n",
        "    \"\"\"Print the runtime of the decorated function\"\"\"\n",
        "    @functools.wraps(func)\n",
        "    def wrapper_timer(*args, **kwargs):\n",
        "        start_time = timer()    \n",
        "        value = func(*args, **kwargs)\n",
        "        end_time = timer()      \n",
        "        run_time = timedelta(seconds=end_time - start_time)    \n",
        "        print(f\"Finished {func.__name__!r} in {run_time}\")\n",
        "        return value\n",
        "    return wrapper_timer\n",
        "\n",
        "def validate(model):\n",
        "  print(model)\n",
        "  for score in [\"accuracy\", \"precision\", \"recall\", \"f1\"]:\n",
        "    print(f\"{score}: {cross_val_score(model, X_test, y_test, scoring=score).mean()}\")"
      ],
      "metadata": {
        "id": "KN_O9SCqp4k_"
      },
      "execution_count": 7,
      "outputs": []
    },
    {
      "cell_type": "code",
      "source": [
        "N_ESTIMATORS = 120"
      ],
      "metadata": {
        "id": "PALwOG2Tu9Nb"
      },
      "execution_count": 8,
      "outputs": []
    },
    {
      "cell_type": "code",
      "source": [
        "# No hyperparameter tuning\n",
        "@time_it\n",
        "def no_hyperparams_tuning():\n",
        "  model = RandomForestClassifier(n_jobs=-1, n_estimators=N_ESTIMATORS)\n",
        "  scores = cross_val_score(model, X_train, y_train, scoring=\"f1\", n_jobs=-1)\n",
        "  return model\n",
        "\n",
        "nht_model = no_hyperparams_tuning()\n",
        "validate(nht_model)"
      ],
      "metadata": {
        "colab": {
          "base_uri": "https://localhost:8080/"
        },
        "id": "DEmCpDdyVxtD",
        "outputId": "0a2fa46e-caed-4377-8fb9-96df28d5932a"
      },
      "execution_count": 9,
      "outputs": [
        {
          "output_type": "stream",
          "name": "stdout",
          "text": [
            "Finished 'no_hyperparams_tuning' in 0:00:02.910925\n",
            "RandomForestClassifier(n_estimators=120, n_jobs=-1)\n",
            "accuracy: 0.884375\n",
            "precision: 0.6833333333333333\n",
            "recall: 0.21388888888888888\n",
            "f1: 0.26969696969696966\n"
          ]
        }
      ]
    },
    {
      "cell_type": "code",
      "source": [
        "# Grid search cv\n",
        "@time_it\n",
        "def grid_search_tuning():\n",
        "  model_gs = RandomForestClassifier(n_jobs=-1, n_estimators=N_ESTIMATORS)\n",
        "\n",
        "  param_grid = {\n",
        "      \"criterion\": [\"gini\", \"entropy\"],\n",
        "      \"max_depth\": [2, 4, 8, 16],\n",
        "      \"max_features\": [\"sqrt\", \"log2\", None, .8, .6, .4, .2],\n",
        "      \"bootstrap\": [True, False],\n",
        "      \"max_samples\": [None, .8, .6, .4, .2]\n",
        "  }\n",
        "  scores = [\"accuracy\", \"precision\", \"recall\", \"f1\"]\n",
        "  gs = GridSearchCV(model_gs, param_grid, scoring=\"f1\", cv=5, n_jobs=-1)\n",
        "  gs.fit(X_train, y_train)\n",
        "  return gs\n",
        "\n",
        "gs = grid_search_tuning()\n",
        "\n",
        "validate(gs.best_estimator_)"
      ],
      "metadata": {
        "id": "cmp8GnyxWJw0"
      },
      "execution_count": null,
      "outputs": []
    },
    {
      "cell_type": "code",
      "source": [
        "# Random search cv\n",
        "@time_it\n",
        "def random_search_tuning():\n",
        "  model_rs = RandomForestClassifier(n_jobs=-1, n_estimators=N_ESTIMATORS)\n",
        "\n",
        "  param_grid = dict(\n",
        "    criterion=[\"gini\", \"entropy\"],\n",
        "    max_depth=uniform(loc=1, scale=31),\n",
        "    max_features=uniform(),\n",
        "    bootstrap=[True, False],\n",
        "    max_samples=uniform()\n",
        "  ) \n",
        "  scores = [\"accuracy\", \"precision\", \"recall\", \"f1\"]\n",
        "  rs = RandomizedSearchCV(model_rs, param_grid, scoring=\"f1\", n_iter=100, cv=5, n_jobs=-1)\n",
        "  rs.fit(X_train, y_train)\n",
        "  return rs\n",
        "\n",
        "rs = random_search_tuning()\n",
        "\n",
        "validate(rs.best_estimator_)"
      ],
      "metadata": {
        "id": "NOhSnSkM0U2e",
        "colab": {
          "base_uri": "https://localhost:8080/"
        },
        "outputId": "46c3a18c-e351-4535-8870-b6ca3999a585"
      },
      "execution_count": null,
      "outputs": [
        {
          "output_type": "stream",
          "name": "stdout",
          "text": [
            "Finished 'random_search_tuning' in 0:02:52.362807\n",
            "RandomForestClassifier(bootstrap=False, criterion='entropy',\n",
            "                       max_depth=20.9684115368937,\n",
            "                       max_features=0.3375892533569673,\n",
            "                       max_samples=0.7651692445440266, n_estimators=120,\n",
            "                       n_jobs=-1)\n",
            "accuracy: 0.89375\n",
            "precision: 0.5533333333333333\n",
            "recall: 0.2523809523809524\n",
            "f1: 0.29317460317460314\n"
          ]
        }
      ]
    },
    {
      "cell_type": "code",
      "source": [
        "@time_it\n",
        "def halving_grid_search_tuning():\n",
        "  model_gs = RandomForestClassifier(n_jobs=-1, n_estimators=N_ESTIMATORS)\n",
        "\n",
        "  param_grid = {\n",
        "      \"criterion\": [\"gini\", \"entropy\"],\n",
        "      \"max_depth\": [2, 4, 8, 16],\n",
        "      \"max_features\": [\"sqrt\", \"log2\", None, .8, .6, .4, .2],\n",
        "      \"bootstrap\": [True, False],\n",
        "      \"max_samples\": [None, .8, .6, .4, .2]\n",
        "  }\n",
        "  scores = [\"accuracy\", \"precision\", \"recall\", \"f1\"]\n",
        "  hgs = HalvingGridSearchCV(\n",
        "      model_gs, param_grid, scoring=\"f1\", cv=5, factor=2, resource='n_estimators', n_jobs=-1, max_resources=128\n",
        "      )\n",
        "  hgs.fit(X_train, y_train)\n",
        "  return hgs\n",
        "\n",
        "hgs = halving_grid_search_tuning()\n",
        "\n",
        "validate(hgs.best_estimator_)"
      ],
      "metadata": {
        "colab": {
          "base_uri": "https://localhost:8080/"
        },
        "id": "jzhHx5X2nY3z",
        "outputId": "cfc28996-71ee-473d-e398-f32cb7f6cd7e"
      },
      "execution_count": null,
      "outputs": [
        {
          "output_type": "stream",
          "name": "stdout",
          "text": [
            "Finished 'halving_grid_search_tuning' in 0:10:32.223032\n",
            "RandomForestClassifier(bootstrap=False, criterion='entropy', max_depth=16,\n",
            "                       max_features='log2', max_samples=0.4, n_estimators=128,\n",
            "                       n_jobs=-1)\n",
            "accuracy: 0.890625\n",
            "precision: 0.5633333333333332\n",
            "recall: 0.2523809523809524\n",
            "f1: 0.33999999999999997\n"
          ]
        }
      ]
    },
    {
      "cell_type": "code",
      "source": [
        "@time_it\n",
        "def bayesian_opt_tuning():\n",
        "  search_space = [\n",
        "                  Categorical([\"gini\", \"entropy\"], name=\"criterion\"),\n",
        "                  Integer(2, 16, name=\"max_depth\"),\n",
        "                  Real(0.1, 1.0, name=\"max_features\"),\n",
        "                  #Categorical([True, False], name=\"bootstrap\"),\n",
        "                  Real(0.1, 1.0, name=\"max_samples\")\n",
        "                  ]\n",
        "\n",
        "  model_bo = RandomForestClassifier(n_jobs=-1, n_estimators=N_ESTIMATORS)\n",
        "\n",
        "  # define the function used to evaluate a given configuration\n",
        "  @use_named_args(search_space)\n",
        "  def evaluate_model(**params):\n",
        "    # something\n",
        "    model_bo.set_params(**params)\n",
        "    model_bo.fit(X_train, y_train)\n",
        "    # calculate 5-fold cross validation\n",
        "    result = cross_val_score(model_bo, X_train, y_train, cv=5, n_jobs=-1, scoring=\"f1\")\n",
        "    # calculate the mean of the scores\n",
        "    estimate = np.mean(result)\n",
        "    return 1.0 - estimate\n",
        "\n",
        "  # perform optimization\n",
        "  result = gp_minimize(evaluate_model, search_space)\n",
        "  # summarizing finding:\n",
        "  print('Best F1 score: %.3f' % (1.0 - result.fun))\n",
        "  print('Best Parameters: %s' % result.x)\n",
        "  return result\n",
        "\n",
        "result = bayesian_opt_tuning()"
      ],
      "metadata": {
        "id": "kvi0D8QVUdvP",
        "colab": {
          "base_uri": "https://localhost:8080/"
        },
        "outputId": "5d694668-def9-4529-fdfc-809db108f8e7"
      },
      "execution_count": 20,
      "outputs": [
        {
          "output_type": "stream",
          "name": "stderr",
          "text": [
            "/usr/local/lib/python3.7/dist-packages/skopt/optimizer/optimizer.py:449: UserWarning: The objective has been evaluated at this point before.\n",
            "  warnings.warn(\"The objective has been evaluated \"\n",
            "/usr/local/lib/python3.7/dist-packages/skopt/optimizer/optimizer.py:449: UserWarning: The objective has been evaluated at this point before.\n",
            "  warnings.warn(\"The objective has been evaluated \"\n"
          ]
        },
        {
          "output_type": "stream",
          "name": "stdout",
          "text": [
            "Best F1 score: 0.608\n",
            "Best Parameters: ['gini', 12, 0.9580420036161799, 0.9911174690768271]\n",
            "Finished 'bayesian_opt_tuning' in 0:06:03.755582\n"
          ]
        }
      ]
    },
    {
      "cell_type": "code",
      "source": [
        "model = RandomForestClassifier(\n",
        "    criterion=\"gini\", max_depth=12,max_features=0.9580420036161799, max_samples=0.9911174690768271,n_jobs=-1, n_estimators=N_ESTIMATORS\n",
        "    )\n",
        "\n",
        "model.fit(X_train, y_train)\n",
        "validate(model)"
      ],
      "metadata": {
        "colab": {
          "base_uri": "https://localhost:8080/"
        },
        "id": "KWgpmtdJHcV3",
        "outputId": "e50cf582-505d-4e13-b6b4-44880277908a"
      },
      "execution_count": 21,
      "outputs": [
        {
          "output_type": "stream",
          "name": "stdout",
          "text": [
            "RandomForestClassifier(max_depth=12, max_features=0.9580420036161799,\n",
            "                       max_samples=0.9911174690768271, n_estimators=120,\n",
            "                       n_jobs=-1)\n",
            "accuracy: 0.890625\n",
            "precision: 0.5566666666666668\n",
            "recall: 0.33055555555555555\n",
            "f1: 0.39856143856143855\n"
          ]
        }
      ]
    }
  ]
}