{
  "nbformat": 4,
  "nbformat_minor": 0,
  "metadata": {
    "colab": {
      "name": "Relationship between fitness and smoking.ipynb",
      "provenance": [],
      "collapsed_sections": []
    },
    "kernelspec": {
      "name": "python3",
      "display_name": "Python 3"
    },
    "language_info": {
      "name": "python"
    }
  },
  "cells": [
    {
      "cell_type": "markdown",
      "metadata": {
        "id": "F2iAw1Zw7xdl"
      },
      "source": [
        "Given the data table below, determine if there is a relationship between fitness level and smoking habits:"
      ]
    },
    {
      "cell_type": "code",
      "metadata": {
        "id": "oeMHzda9434j"
      },
      "source": [
        "#@title\n",
        "import scipy.stats\n",
        "import numpy as np\n",
        "import pandas as pd"
      ],
      "execution_count": 2,
      "outputs": []
    },
    {
      "cell_type": "code",
      "metadata": {
        "colab": {
          "base_uri": "https://localhost:8080/",
          "height": 175
        },
        "id": "klu2cmSr6UAp",
        "outputId": "24f1fc79-5033-4338-b09f-2718160b5531"
      },
      "source": [
        "#@title\n",
        "df = pd.DataFrame(\n",
        "    data=[\n",
        "          \"113\t113\t110\t159\".split(\"\\t\"),\n",
        "          \"119\t135\t172\t190\".split(\"\\t\"),\n",
        "          \"77\t91\t86\t65\".split(\"\\t\"),\n",
        "          \"181\t152\t124\t73\".split(\"\\t\"),\n",
        "          ],\n",
        "          columns=\"Low fitness level\tMedium-low fitness level\tMedium-high fitness level\tHigh fitness level\".split(\"\\t\"),\n",
        "          index=[\"Never smoked\", \"Former smokers\", \"1 to 9 cigarettes daily\", \">=10 cigarettes daily\"]\n",
        ")\n",
        "df"
      ],
      "execution_count": 24,
      "outputs": [
        {
          "output_type": "execute_result",
          "data": {
            "text/html": [
              "<div>\n",
              "<style scoped>\n",
              "    .dataframe tbody tr th:only-of-type {\n",
              "        vertical-align: middle;\n",
              "    }\n",
              "\n",
              "    .dataframe tbody tr th {\n",
              "        vertical-align: top;\n",
              "    }\n",
              "\n",
              "    .dataframe thead th {\n",
              "        text-align: right;\n",
              "    }\n",
              "</style>\n",
              "<table border=\"1\" class=\"dataframe\">\n",
              "  <thead>\n",
              "    <tr style=\"text-align: right;\">\n",
              "      <th></th>\n",
              "      <th>Low fitness level</th>\n",
              "      <th>Medium-low fitness level</th>\n",
              "      <th>Medium-high fitness level</th>\n",
              "      <th>High fitness level</th>\n",
              "    </tr>\n",
              "  </thead>\n",
              "  <tbody>\n",
              "    <tr>\n",
              "      <th>Never smoked</th>\n",
              "      <td>113</td>\n",
              "      <td>113</td>\n",
              "      <td>110</td>\n",
              "      <td>159</td>\n",
              "    </tr>\n",
              "    <tr>\n",
              "      <th>Former smokers</th>\n",
              "      <td>119</td>\n",
              "      <td>135</td>\n",
              "      <td>172</td>\n",
              "      <td>190</td>\n",
              "    </tr>\n",
              "    <tr>\n",
              "      <th>1 to 9 cigarettes daily</th>\n",
              "      <td>77</td>\n",
              "      <td>91</td>\n",
              "      <td>86</td>\n",
              "      <td>65</td>\n",
              "    </tr>\n",
              "    <tr>\n",
              "      <th>&gt;=10 cigarettes daily</th>\n",
              "      <td>181</td>\n",
              "      <td>152</td>\n",
              "      <td>124</td>\n",
              "      <td>73</td>\n",
              "    </tr>\n",
              "  </tbody>\n",
              "</table>\n",
              "</div>"
            ],
            "text/plain": [
              "                        Low fitness level  ... High fitness level\n",
              "Never smoked                          113  ...                159\n",
              "Former smokers                        119  ...                190\n",
              "1 to 9 cigarettes daily                77  ...                 65\n",
              ">=10 cigarettes daily                 181  ...                 73\n",
              "\n",
              "[4 rows x 4 columns]"
            ]
          },
          "metadata": {},
          "execution_count": 24
        }
      ]
    },
    {
      "cell_type": "markdown",
      "metadata": {
        "id": "jBEUJtAN78fV"
      },
      "source": [
        "You don't have to fully solve for the number here (that would be pretty time-intensive for an interview setting), but lay out the steps you would take to solve such a problem. "
      ]
    },
    {
      "cell_type": "code",
      "metadata": {
        "id": "32Wwd84PyAmU"
      },
      "source": [
        "# Calculate marginals\n",
        "n = df.to_numpy().astype(int).sum()\n",
        "row_marginals = df.to_numpy().astype(int).sum(axis=1)\n",
        "col_marginals = df.to_numpy().astype(int).sum(axis=0)"
      ],
      "execution_count": 34,
      "outputs": []
    },
    {
      "cell_type": "code",
      "metadata": {
        "id": "XOf0s1TOywcn"
      },
      "source": [
        "# Calculate expected values\n",
        "E = (np.expand_dims(row_marginals, 1) * col_marginals) / n"
      ],
      "execution_count": 45,
      "outputs": []
    },
    {
      "cell_type": "code",
      "metadata": {
        "id": "O6ou0e2s0U6U",
        "colab": {
          "base_uri": "https://localhost:8080/"
        },
        "outputId": "f130ffe1-259c-4894-9457-c13fd9e1c3d8"
      },
      "source": [
        "# Compute X2\n",
        "x2 = ((df.to_numpy().astype(int) - E)**2 / E).sum()\n",
        "x2"
      ],
      "execution_count": 47,
      "outputs": [
        {
          "output_type": "execute_result",
          "data": {
            "text/plain": [
              "87.27274636300587"
            ]
          },
          "metadata": {},
          "execution_count": 47
        }
      ]
    },
    {
      "cell_type": "code",
      "metadata": {
        "colab": {
          "base_uri": "https://localhost:8080/"
        },
        "id": "82k1BCsNwH1Q",
        "outputId": "41600b34-de8f-4d85-b77b-8d794a06f512"
      },
      "source": [
        "# Get probability\n",
        "p = scipy.stats.chi2.sf(x2, df=(len(row_marginals) - 1) * (len(col_marginals) - 1))\n",
        "p"
      ],
      "execution_count": 40,
      "outputs": [
        {
          "output_type": "execute_result",
          "data": {
            "text/plain": [
              "5.7306646048374425e-15"
            ]
          },
          "metadata": {},
          "execution_count": 40
        }
      ]
    },
    {
      "cell_type": "code",
      "metadata": {
        "colab": {
          "base_uri": "https://localhost:8080/",
          "height": 175
        },
        "id": "zvhDBN1w6ok5",
        "outputId": "bac65eaf-ff11-45d0-917e-b31033b4bf13"
      },
      "source": [
        "df"
      ],
      "execution_count": 49,
      "outputs": [
        {
          "output_type": "execute_result",
          "data": {
            "text/html": [
              "<div>\n",
              "<style scoped>\n",
              "    .dataframe tbody tr th:only-of-type {\n",
              "        vertical-align: middle;\n",
              "    }\n",
              "\n",
              "    .dataframe tbody tr th {\n",
              "        vertical-align: top;\n",
              "    }\n",
              "\n",
              "    .dataframe thead th {\n",
              "        text-align: right;\n",
              "    }\n",
              "</style>\n",
              "<table border=\"1\" class=\"dataframe\">\n",
              "  <thead>\n",
              "    <tr style=\"text-align: right;\">\n",
              "      <th></th>\n",
              "      <th>Low fitness level</th>\n",
              "      <th>Medium-low fitness level</th>\n",
              "      <th>Medium-high fitness level</th>\n",
              "      <th>High fitness level</th>\n",
              "    </tr>\n",
              "  </thead>\n",
              "  <tbody>\n",
              "    <tr>\n",
              "      <th>Never smoked</th>\n",
              "      <td>113</td>\n",
              "      <td>113</td>\n",
              "      <td>110</td>\n",
              "      <td>159</td>\n",
              "    </tr>\n",
              "    <tr>\n",
              "      <th>Former smokers</th>\n",
              "      <td>119</td>\n",
              "      <td>135</td>\n",
              "      <td>172</td>\n",
              "      <td>190</td>\n",
              "    </tr>\n",
              "    <tr>\n",
              "      <th>1 to 9 cigarettes daily</th>\n",
              "      <td>77</td>\n",
              "      <td>91</td>\n",
              "      <td>86</td>\n",
              "      <td>65</td>\n",
              "    </tr>\n",
              "    <tr>\n",
              "      <th>&gt;=10 cigarettes daily</th>\n",
              "      <td>181</td>\n",
              "      <td>152</td>\n",
              "      <td>124</td>\n",
              "      <td>73</td>\n",
              "    </tr>\n",
              "  </tbody>\n",
              "</table>\n",
              "</div>"
            ],
            "text/plain": [
              "                        Low fitness level  ... High fitness level\n",
              "Never smoked                          113  ...                159\n",
              "Former smokers                        119  ...                190\n",
              "1 to 9 cigarettes daily                77  ...                 65\n",
              ">=10 cigarettes daily                 181  ...                 73\n",
              "\n",
              "[4 rows x 4 columns]"
            ]
          },
          "metadata": {},
          "execution_count": 49
        }
      ]
    },
    {
      "cell_type": "markdown",
      "metadata": {
        "id": "5Gq_mANlRHzi"
      },
      "source": [
        "A correlational approach"
      ]
    },
    {
      "cell_type": "code",
      "metadata": {
        "id": "YS8_wFSw7db-",
        "colab": {
          "base_uri": "https://localhost:8080/"
        },
        "outputId": "d0fe0ba0-78b9-4179-ba63-829148a0c0de"
      },
      "source": [
        "# We give a numerical value to the categories, for smoking habits we assign the values 0 to 3 respectively\n",
        "# and for fitness level we assign 0, 1, 2 and 3 from low to high, then we calculate the correlation between the two\n",
        "# variables \n",
        "a = df.to_numpy().astype(int)\n",
        "v1 = []\n",
        "v2 = []\n",
        "\n",
        "for row in range(len(a)):\n",
        "  for col in range(len(a[0])):\n",
        "    v1.append([row] * a[row, col])\n",
        "    v2.append([col] * a[row, col])\n",
        "\n",
        "r, p = scipy.stats.pearsonr(np.hstack(v1), np.hstack(v2))\n",
        "(r, p)"
      ],
      "execution_count": 59,
      "outputs": [
        {
          "output_type": "execute_result",
          "data": {
            "text/plain": [
              "(-0.1760369960623594, 4.163857658301945e-15)"
            ]
          },
          "metadata": {},
          "execution_count": 59
        }
      ]
    },
    {
      "cell_type": "code",
      "metadata": {
        "colab": {
          "base_uri": "https://localhost:8080/"
        },
        "id": "Olhdv3VbI_0P",
        "outputId": "ce54a592-40b8-4124-b3dd-19160a8c1897"
      },
      "source": [
        "# We follow Agresti (1996)'s approach: M2 = (N - 1)r2 , where M2 is a chi-square statistic on 1 degree of freedom, \n",
        "# r is the correlation between the two variables, and N is the sample size.\n",
        "M2 = (n - 1)*r**2\n",
        "M2, scipy.stats.chi2.sf(M2, df=1)"
      ],
      "execution_count": 60,
      "outputs": [
        {
          "output_type": "execute_result",
          "data": {
            "text/plain": [
              "(60.70749798202925, 6.621744795444811e-15)"
            ]
          },
          "metadata": {},
          "execution_count": 60
        }
      ]
    },
    {
      "cell_type": "code",
      "metadata": {
        "id": "Y65RDbkTAU1f",
        "colab": {
          "base_uri": "https://localhost:8080/"
        },
        "outputId": "fddb16fb-abec-4e74-d0d8-8a7516f37500"
      },
      "source": [
        "# We can go one step further before leaving this approach. We know that the \n",
        "# overall Pearson chi-square on 9 df = 87.2727. We also know that we have just \n",
        "# calculated a chi-square = 60.7075 on 1 df associated with the linear relationship \n",
        "# between the two variables. That linear relationship is part of the total \n",
        "# chi-square, and if we subtract the linear component from the overall \n",
        "# chi-square we obtain:\n",
        "dl_df = (len(row_marginals) - 1) * (len(col_marginals) - 1) - 1 # Deviation from linear df\n",
        "dl_x2 = x2 - M2 # Deviation from linear chi-square\n",
        "dl_df, dl_x2"
      ],
      "execution_count": 62,
      "outputs": [
        {
          "output_type": "execute_result",
          "data": {
            "text/plain": [
              "(8, 26.565248380976612)"
            ]
          },
          "metadata": {},
          "execution_count": 62
        }
      ]
    },
    {
      "cell_type": "code",
      "metadata": {
        "colab": {
          "base_uri": "https://localhost:8080/"
        },
        "id": "tp3ImPTBejVB",
        "outputId": "79b134fd-fb08-469d-8680-40cf47b46e92"
      },
      "source": [
        "# The departure for linearity is itself a chi-square = 26.5652 on 8 df, \n",
        "scipy.stats.chi2.sf(dl_x2, df=dl_df)"
      ],
      "execution_count": 63,
      "outputs": [
        {
          "output_type": "execute_result",
          "data": {
            "text/plain": [
              "0.000840110607100272"
            ]
          },
          "metadata": {},
          "execution_count": 63
        }
      ]
    },
    {
      "cell_type": "code",
      "metadata": {
        "id": "C5kY0H6te8Gk"
      },
      "source": [
        "# which has a probability under the null of 0.0008. Thus we have evidence that \n",
        "# there is other than a linear trend underlying these data. \n",
        "# (In other words, the relationship between smoking habits and fitness is curvilinear.)"
      ],
      "execution_count": null,
      "outputs": []
    },
    {
      "cell_type": "code",
      "metadata": {
        "colab": {
          "base_uri": "https://localhost:8080/"
        },
        "id": "OxpdwzWRf1ba",
        "outputId": "cebe32a6-4e77-4d22-b960-6a9406e30d01"
      },
      "source": [
        "# If we look at the difference between observations and expected values, it can be appreciated that\n",
        "# X2 is significantly affected by the values for heavy smokers and low and high levels of fitness\n",
        "((df.to_numpy().astype(int) - E)**2 / E)"
      ],
      "execution_count": 65,
      "outputs": [
        {
          "output_type": "execute_result",
          "data": {
            "text/plain": [
              "array([[ 0.93383838,  0.97623902,  1.63540918, 10.54172159],\n",
              "       [ 7.95454545,  2.41741476,  1.95155739,  8.91676578],\n",
              "       [ 0.09482759,  1.53826507,  0.43833101,  2.56614465],\n",
              "       [17.75283019,  2.78508749,  0.61437055, 26.15539827]])"
            ]
          },
          "metadata": {},
          "execution_count": 65
        }
      ]
    }
  ]
}