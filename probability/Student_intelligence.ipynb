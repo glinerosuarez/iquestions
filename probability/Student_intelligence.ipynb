{
  "nbformat": 4,
  "nbformat_minor": 0,
  "metadata": {
    "colab": {
      "name": "Student intelligence.ipynb",
      "provenance": []
    },
    "kernelspec": {
      "name": "python3",
      "display_name": "Python 3"
    },
    "language_info": {
      "name": "python"
    }
  },
  "cells": [
    {
      "cell_type": "markdown",
      "metadata": {
        "id": "Ql1m75HrNAMk"
      },
      "source": [
        "Suppose you're consulting for a school district, and the head of the school district thinks the students have above average intelligence. A random sample of thirty students have a mean IQ score of 112. Is there sufficient evidence to support the head's claim? You can assume the mean IQ score across the population of all students (e.g. including students outside the head's school district) is 100, with a standard deviation of 15. \n",
        "\n"
      ]
    },
    {
      "cell_type": "code",
      "metadata": {
        "id": "_YbwIVrIhx18"
      },
      "source": [
        "import numpy as np\n",
        "from scipy import stats"
      ],
      "execution_count": 5,
      "outputs": []
    },
    {
      "cell_type": "code",
      "metadata": {
        "id": "gEjYcrmWNhpt"
      },
      "source": [
        "n = 30\n",
        "x_hat = 112\n",
        "miu = 100\n",
        "sigma = 15\n",
        "# H0: miu = 100 Ha: miu > 100"
      ],
      "execution_count": 1,
      "outputs": []
    },
    {
      "cell_type": "code",
      "metadata": {
        "colab": {
          "base_uri": "https://localhost:8080/"
        },
        "id": "nCJqg3johP7e",
        "outputId": "08ede766-7e0e-4540-89e4-b8c7dc35fb1c"
      },
      "source": [
        "# The hipotesis test is right-tailed\n",
        "# The population standard deviation is known and the sample size is large (n≥30) so we use z-test.\n",
        "# Let the significance level be 5% in this test, therefore: \n",
        "Z = stats.norm.ppf(.99)\n",
        "Z"
      ],
      "execution_count": 12,
      "outputs": [
        {
          "output_type": "execute_result",
          "data": {
            "text/plain": [
              "2.3263478740408408"
            ]
          },
          "metadata": {},
          "execution_count": 12
        }
      ]
    },
    {
      "cell_type": "code",
      "metadata": {
        "colab": {
          "base_uri": "https://localhost:8080/"
        },
        "id": "aAOizH9kh2su",
        "outputId": "db4dbbf6-0a1e-4407-ece7-4a07a05986a3"
      },
      "source": [
        "# the critical region is Z > 1.6449\n",
        "Ztest = (112 - 100)/(15/np.sqrt(n))\n",
        "Ztest"
      ],
      "execution_count": 8,
      "outputs": [
        {
          "output_type": "execute_result",
          "data": {
            "text/plain": [
              "4.381780460041329"
            ]
          },
          "metadata": {},
          "execution_count": 8
        }
      ]
    },
    {
      "cell_type": "code",
      "metadata": {
        "id": "JMnRafZzwl8s"
      },
      "source": [
        "# Since 4.38 > 1.64 thus the Ztest falls in the rejection region we reject the null hypothesis.\n",
        "# At the 5% significance level the data do provide sufficient evidence to support the claim. \n",
        "# We are 95% confident to conclude that the students in the school are above average intelligence."
      ],
      "execution_count": null,
      "outputs": []
    }
  ]
}