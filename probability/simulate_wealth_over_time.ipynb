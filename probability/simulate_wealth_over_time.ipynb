{
  "nbformat": 4,
  "nbformat_minor": 0,
  "metadata": {
    "colab": {
      "name": "simulate_wealth_over_time.ipynb",
      "provenance": []
    },
    "kernelspec": {
      "name": "python3",
      "display_name": "Python 3"
    },
    "language_info": {
      "name": "python"
    }
  },
  "cells": [
    {
      "cell_type": "markdown",
      "source": [
        "Suppose you're given the following information about a population and its wealth distribution:\n",
        "\n",
        "Population size: 2500\n",
        "Mean income (in USD, thousands): 50\n",
        "Standard deviation of income (in USD, thousands): 12.5\n",
        "The population wealth is initially normally distributed\n",
        "Additionally, you're told that economic transactions occur randomly between two individuals in the population. In a transaction, two parties come together and there is an exchange of wealth. For the purposes of this question, the transactions can be modeled in the following way:\n",
        "\n",
        "Two individuals come together at random\n",
        "When they interact, their wealth is put into a pot, and is then split randomly and uniformly between the two parties\n",
        "Given this information, write a simulation to show how the wealth of the population will change over time. You can simulate 50 time steps (or transactions per individual)."
      ],
      "metadata": {
        "id": "Cfm-iNvAF_Op"
      }
    },
    {
      "cell_type": "code",
      "source": [
        "import numpy as np\n",
        "import pandas as pd"
      ],
      "metadata": {
        "id": "zgGrF6cvIpKx"
      },
      "execution_count": 37,
      "outputs": []
    },
    {
      "cell_type": "code",
      "source": [
        "N = 2_500\n",
        "miu = 50\n",
        "sigma = 12.5"
      ],
      "metadata": {
        "id": "qQgoS-TcGRkt"
      },
      "execution_count": 38,
      "outputs": []
    },
    {
      "cell_type": "code",
      "source": [
        "wealth = np.random.normal(miu, sigma, N)\n",
        "pd.Series(wealth).plot.hist()"
      ],
      "metadata": {
        "colab": {
          "base_uri": "https://localhost:8080/",
          "height": 283
        },
        "id": "OOYkP-YsInXk",
        "outputId": "58136310-624d-4628-b502-bc9d71f540c7"
      },
      "execution_count": 39,
      "outputs": [
        {
          "output_type": "execute_result",
          "data": {
            "text/plain": [
              "<matplotlib.axes._subplots.AxesSubplot at 0x7f0eaf526990>"
            ]
          },
          "metadata": {},
          "execution_count": 39
        },
        {
          "output_type": "display_data",
          "data": {
            "image/png": "[encoded data removed]",
            "text/plain": [
              "<Figure size 432x288 with 1 Axes>"
            ]
          },
          "metadata": {
            "needs_background": "light"
          }
        }
      ]
    },
    {
      "cell_type": "code",
      "source": [
        "def execute_transaction(ind1):\n",
        "  ind2 = ind1\n",
        "  while ind1 == ind2:\n",
        "    ind2 = np.random.choice(np.arange(len(wealth)), 1, replace=False)\n",
        "\n",
        "  pot = wealth[ind1] + wealth[ind2]\n",
        "  wealth[ind1] = pot * np.random.randint(0, 1_0001) / 10_000\n",
        "  wealth[ind2] = pot - wealth[ind1]"
      ],
      "metadata": {
        "id": "MyRTzWuqJRgo"
      },
      "execution_count": 52,
      "outputs": []
    },
    {
      "cell_type": "code",
      "source": [
        "wealth = np.random.normal(miu, sigma, N)\n",
        "\n",
        "for ind1 in range(len(wealth)):\n",
        "  for _ in range(50):\n",
        "    execute_transaction(ind1)\n",
        "\n",
        "pd.Series(wealth).hist()"
      ],
      "metadata": {
        "colab": {
          "base_uri": "https://localhost:8080/",
          "height": 283
        },
        "id": "DraUSMxuYXd3",
        "outputId": "da5217d1-4372-417f-ad2e-994ed5477c36"
      },
      "execution_count": 54,
      "outputs": [
        {
          "output_type": "execute_result",
          "data": {
            "text/plain": [
              "<matplotlib.axes._subplots.AxesSubplot at 0x7f0eaedd29d0>"
            ]
          },
          "metadata": {},
          "execution_count": 54
        },
        {
          "output_type": "display_data",
          "data": {
            "image/png": "[encoded data removed]",
            "text/plain": [
              "<Figure size 432x288 with 1 Axes>"
            ]
          },
          "metadata": {
            "needs_background": "light"
          }
        }
      ]
    }
  ]
}